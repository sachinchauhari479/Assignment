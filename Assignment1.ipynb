{
  "cells": [
    {
      "cell_type": "markdown",
      "metadata": {
        "id": "view-in-github",
        "colab_type": "text"
      },
      "source": [
        "<a href=\"https://colab.research.google.com/github/sachinchauhari479/Assignment/blob/main/Assignment1.ipynb\" target=\"_parent\"><img src=\"https://colab.research.google.com/assets/colab-badge.svg\" alt=\"Open In Colab\"/></a>"
      ]
    },
    {
      "cell_type": "code",
      "execution_count": null,
      "id": "9e87be81",
      "metadata": {
        "id": "9e87be81"
      },
      "outputs": [],
      "source": [
        "# import common libraries\n",
        "import pandas as pd\n",
        "import numpy as np\n",
        "import matplotlib.pyplot as plt\n",
        "import seaborn as sns\n",
        "from math import sqrt\n",
        "import operator\n",
        "\n",
        "\n",
        "from sklearn.ensemble import RandomForestClassifier\n",
        "from sklearn.model_selection import train_test_split\n",
        "from sklearn.metrics import accuracy_score, precision_score, recall_score, f1_score\n",
        "\n",
        "\n",
        "# for removal of warnings\n",
        "import warnings\n",
        "warnings.filterwarnings(\"ignore\")"
      ]
    },
    {
      "cell_type": "code",
      "execution_count": null,
      "id": "b8641c68",
      "metadata": {
        "id": "b8641c68"
      },
      "outputs": [],
      "source": [
        "data=\"Data_Science_Internship - Dump.csv\""
      ]
    },
    {
      "cell_type": "code",
      "execution_count": null,
      "id": "32589eb0",
      "metadata": {
        "id": "32589eb0"
      },
      "outputs": [],
      "source": [
        "df=pd.read_csv(data)"
      ]
    },
    {
      "cell_type": "code",
      "execution_count": null,
      "id": "6be8b90d",
      "metadata": {
        "id": "6be8b90d",
        "outputId": "b54e3fc6-8759-4fcb-f189-a91f651d1a89"
      },
      "outputs": [
        {
          "data": {
            "text/html": [
              "<div>\n",
              "<style scoped>\n",
              "    .dataframe tbody tr th:only-of-type {\n",
              "        vertical-align: middle;\n",
              "    }\n",
              "\n",
              "    .dataframe tbody tr th {\n",
              "        vertical-align: top;\n",
              "    }\n",
              "\n",
              "    .dataframe thead th {\n",
              "        text-align: right;\n",
              "    }\n",
              "</style>\n",
              "<table border=\"1\" class=\"dataframe\">\n",
              "  <thead>\n",
              "    <tr style=\"text-align: right;\">\n",
              "      <th></th>\n",
              "      <th>Unnamed: 0</th>\n",
              "      <th>Agent_id</th>\n",
              "      <th>status</th>\n",
              "      <th>lost_reason</th>\n",
              "      <th>budget</th>\n",
              "      <th>lease</th>\n",
              "      <th>movein</th>\n",
              "      <th>source</th>\n",
              "      <th>source_city</th>\n",
              "      <th>source_country</th>\n",
              "      <th>utm_source</th>\n",
              "      <th>utm_medium</th>\n",
              "      <th>des_city</th>\n",
              "      <th>des_country</th>\n",
              "      <th>room_type</th>\n",
              "      <th>lead_id</th>\n",
              "    </tr>\n",
              "  </thead>\n",
              "  <tbody>\n",
              "    <tr>\n",
              "      <th>0</th>\n",
              "      <td>0</td>\n",
              "      <td>1deba9e96f404694373de9749ddd1ca8aa7bb823145a6f...</td>\n",
              "      <td>LOST</td>\n",
              "      <td>Not responding</td>\n",
              "      <td>NaN</td>\n",
              "      <td>NaN</td>\n",
              "      <td>NaN</td>\n",
              "      <td>9b2d5b4678781e53038e91ea5324530a03f27dc1d0e5f6...</td>\n",
              "      <td>9b2d5b4678781e53038e91ea5324530a03f27dc1d0e5f6...</td>\n",
              "      <td>9b2d5b4678781e53038e91ea5324530a03f27dc1d0e5f6...</td>\n",
              "      <td>3d59f7548e1af2151b64135003ce63c0a484c26b9b8b16...</td>\n",
              "      <td>268ad70eb5bc4737a2ae28162cbca30118cc94520e49ef...</td>\n",
              "      <td>ecc0e7dc084f141b29479058967d0bc07dee25d9690a98...</td>\n",
              "      <td>8d23a6e37e0a6431a8f1b43a91026dcff51170a89a6512...</td>\n",
              "      <td>NaN</td>\n",
              "      <td>cd5dc0d9393f3980d11d4ba6f88f8110c2b7a7f7796307...</td>\n",
              "    </tr>\n",
              "    <tr>\n",
              "      <th>1</th>\n",
              "      <td>1</td>\n",
              "      <td>299ae77a4ef350ae0dd37d6bba1c002d03444fb1edb236...</td>\n",
              "      <td>LOST</td>\n",
              "      <td>Low budget</td>\n",
              "      <td>NaN</td>\n",
              "      <td>NaN</td>\n",
              "      <td>NaN</td>\n",
              "      <td>9b2d5b4678781e53038e91ea5324530a03f27dc1d0e5f6...</td>\n",
              "      <td>9b2d5b4678781e53038e91ea5324530a03f27dc1d0e5f6...</td>\n",
              "      <td>9b2d5b4678781e53038e91ea5324530a03f27dc1d0e5f6...</td>\n",
              "      <td>3d59f7548e1af2151b64135003ce63c0a484c26b9b8b16...</td>\n",
              "      <td>268ad70eb5bc4737a2ae28162cbca30118cc94520e49ef...</td>\n",
              "      <td>5372372f3bf5896820cb2819300c3e681820d82c6efc54...</td>\n",
              "      <td>8d23a6e37e0a6431a8f1b43a91026dcff51170a89a6512...</td>\n",
              "      <td>NaN</td>\n",
              "      <td>b94693673a5f7178d1b114e4004ad52377d3244dd24a3d...</td>\n",
              "    </tr>\n",
              "    <tr>\n",
              "      <th>2</th>\n",
              "      <td>2</td>\n",
              "      <td>c213697430c006013012dd2aca82dd9732aa0a1a6bca13...</td>\n",
              "      <td>LOST</td>\n",
              "      <td>Not responding</td>\n",
              "      <td>£121 - £180 Per Week</td>\n",
              "      <td>Full Year Course Stay 40 - 44 weeks</td>\n",
              "      <td>31/08/22</td>\n",
              "      <td>7aae3e886e89fc1187a5c47d6cea1c22998ee610ade1f2...</td>\n",
              "      <td>9b8cc3c63cdf447e463c11544924bf027945cbd29675f7...</td>\n",
              "      <td>e09e10e67812e9d236ad900e5d46b4308fc62f5d69446a...</td>\n",
              "      <td>bbdefa2950f49882f295b1285d4fa9dec45fc4144bfb07...</td>\n",
              "      <td>09076eb7665d1fb9389c7c4517fee0b00e43092eb34821...</td>\n",
              "      <td>11ab03a1a8c367191355c152f39fe28cae5e426fce49ef...</td>\n",
              "      <td>8d23a6e37e0a6431a8f1b43a91026dcff51170a89a6512...</td>\n",
              "      <td>Ensuite</td>\n",
              "      <td>96ea4e2bf04496c044745938c0299c264c3f4ba079e572...</td>\n",
              "    </tr>\n",
              "    <tr>\n",
              "      <th>3</th>\n",
              "      <td>3</td>\n",
              "      <td>eac9815a500f908736d303e23aa227f0957177b0e6756b...</td>\n",
              "      <td>LOST</td>\n",
              "      <td>Low budget</td>\n",
              "      <td>0-0</td>\n",
              "      <td>0</td>\n",
              "      <td>NaN</td>\n",
              "      <td>ba2d0a29556ac20f86f45e4543c0825428cba33fd7a9ea...</td>\n",
              "      <td>a5f0d2d08eb0592087e3a3a2f9c1ba2c67cc30f2efd2bd...</td>\n",
              "      <td>e09e10e67812e9d236ad900e5d46b4308fc62f5d69446a...</td>\n",
              "      <td>bbdefa2950f49882f295b1285d4fa9dec45fc4144bfb07...</td>\n",
              "      <td>09076eb7665d1fb9389c7c4517fee0b00e43092eb34821...</td>\n",
              "      <td>19372fa44c57a01c37a5a8418779ca3d99b0b59731fb35...</td>\n",
              "      <td>8d23a6e37e0a6431a8f1b43a91026dcff51170a89a6512...</td>\n",
              "      <td>NaN</td>\n",
              "      <td>1d2b34d8add02a182a4129023766ca4585a8ddced0e5b3...</td>\n",
              "    </tr>\n",
              "    <tr>\n",
              "      <th>4</th>\n",
              "      <td>4</td>\n",
              "      <td>1deba9e96f404694373de9749ddd1ca8aa7bb823145a6f...</td>\n",
              "      <td>LOST</td>\n",
              "      <td>Junk lead</td>\n",
              "      <td>NaN</td>\n",
              "      <td>NaN</td>\n",
              "      <td>NaN</td>\n",
              "      <td>9b2d5b4678781e53038e91ea5324530a03f27dc1d0e5f6...</td>\n",
              "      <td>9b2d5b4678781e53038e91ea5324530a03f27dc1d0e5f6...</td>\n",
              "      <td>9b2d5b4678781e53038e91ea5324530a03f27dc1d0e5f6...</td>\n",
              "      <td>3d59f7548e1af2151b64135003ce63c0a484c26b9b8b16...</td>\n",
              "      <td>268ad70eb5bc4737a2ae28162cbca30118cc94520e49ef...</td>\n",
              "      <td>9b2d5b4678781e53038e91ea5324530a03f27dc1d0e5f6...</td>\n",
              "      <td>9b2d5b4678781e53038e91ea5324530a03f27dc1d0e5f6...</td>\n",
              "      <td>NaN</td>\n",
              "      <td>fc10fffd29cfbe93c55158fb47752a7501c211d253468c...</td>\n",
              "    </tr>\n",
              "  </tbody>\n",
              "</table>\n",
              "</div>"
            ],
            "text/plain": [
              "   Unnamed: 0                                           Agent_id status  \\\n",
              "0           0  1deba9e96f404694373de9749ddd1ca8aa7bb823145a6f...   LOST   \n",
              "1           1  299ae77a4ef350ae0dd37d6bba1c002d03444fb1edb236...   LOST   \n",
              "2           2  c213697430c006013012dd2aca82dd9732aa0a1a6bca13...   LOST   \n",
              "3           3  eac9815a500f908736d303e23aa227f0957177b0e6756b...   LOST   \n",
              "4           4  1deba9e96f404694373de9749ddd1ca8aa7bb823145a6f...   LOST   \n",
              "\n",
              "      lost_reason                budget                                lease  \\\n",
              "0  Not responding                   NaN                                  NaN   \n",
              "1      Low budget                   NaN                                  NaN   \n",
              "2  Not responding  £121 - £180 Per Week  Full Year Course Stay 40 - 44 weeks   \n",
              "3      Low budget                   0-0                                    0   \n",
              "4       Junk lead                   NaN                                  NaN   \n",
              "\n",
              "     movein                                             source  \\\n",
              "0       NaN  9b2d5b4678781e53038e91ea5324530a03f27dc1d0e5f6...   \n",
              "1       NaN  9b2d5b4678781e53038e91ea5324530a03f27dc1d0e5f6...   \n",
              "2  31/08/22  7aae3e886e89fc1187a5c47d6cea1c22998ee610ade1f2...   \n",
              "3       NaN  ba2d0a29556ac20f86f45e4543c0825428cba33fd7a9ea...   \n",
              "4       NaN  9b2d5b4678781e53038e91ea5324530a03f27dc1d0e5f6...   \n",
              "\n",
              "                                         source_city  \\\n",
              "0  9b2d5b4678781e53038e91ea5324530a03f27dc1d0e5f6...   \n",
              "1  9b2d5b4678781e53038e91ea5324530a03f27dc1d0e5f6...   \n",
              "2  9b8cc3c63cdf447e463c11544924bf027945cbd29675f7...   \n",
              "3  a5f0d2d08eb0592087e3a3a2f9c1ba2c67cc30f2efd2bd...   \n",
              "4  9b2d5b4678781e53038e91ea5324530a03f27dc1d0e5f6...   \n",
              "\n",
              "                                      source_country  \\\n",
              "0  9b2d5b4678781e53038e91ea5324530a03f27dc1d0e5f6...   \n",
              "1  9b2d5b4678781e53038e91ea5324530a03f27dc1d0e5f6...   \n",
              "2  e09e10e67812e9d236ad900e5d46b4308fc62f5d69446a...   \n",
              "3  e09e10e67812e9d236ad900e5d46b4308fc62f5d69446a...   \n",
              "4  9b2d5b4678781e53038e91ea5324530a03f27dc1d0e5f6...   \n",
              "\n",
              "                                          utm_source  \\\n",
              "0  3d59f7548e1af2151b64135003ce63c0a484c26b9b8b16...   \n",
              "1  3d59f7548e1af2151b64135003ce63c0a484c26b9b8b16...   \n",
              "2  bbdefa2950f49882f295b1285d4fa9dec45fc4144bfb07...   \n",
              "3  bbdefa2950f49882f295b1285d4fa9dec45fc4144bfb07...   \n",
              "4  3d59f7548e1af2151b64135003ce63c0a484c26b9b8b16...   \n",
              "\n",
              "                                          utm_medium  \\\n",
              "0  268ad70eb5bc4737a2ae28162cbca30118cc94520e49ef...   \n",
              "1  268ad70eb5bc4737a2ae28162cbca30118cc94520e49ef...   \n",
              "2  09076eb7665d1fb9389c7c4517fee0b00e43092eb34821...   \n",
              "3  09076eb7665d1fb9389c7c4517fee0b00e43092eb34821...   \n",
              "4  268ad70eb5bc4737a2ae28162cbca30118cc94520e49ef...   \n",
              "\n",
              "                                            des_city  \\\n",
              "0  ecc0e7dc084f141b29479058967d0bc07dee25d9690a98...   \n",
              "1  5372372f3bf5896820cb2819300c3e681820d82c6efc54...   \n",
              "2  11ab03a1a8c367191355c152f39fe28cae5e426fce49ef...   \n",
              "3  19372fa44c57a01c37a5a8418779ca3d99b0b59731fb35...   \n",
              "4  9b2d5b4678781e53038e91ea5324530a03f27dc1d0e5f6...   \n",
              "\n",
              "                                         des_country room_type  \\\n",
              "0  8d23a6e37e0a6431a8f1b43a91026dcff51170a89a6512...       NaN   \n",
              "1  8d23a6e37e0a6431a8f1b43a91026dcff51170a89a6512...       NaN   \n",
              "2  8d23a6e37e0a6431a8f1b43a91026dcff51170a89a6512...   Ensuite   \n",
              "3  8d23a6e37e0a6431a8f1b43a91026dcff51170a89a6512...       NaN   \n",
              "4  9b2d5b4678781e53038e91ea5324530a03f27dc1d0e5f6...       NaN   \n",
              "\n",
              "                                             lead_id  \n",
              "0  cd5dc0d9393f3980d11d4ba6f88f8110c2b7a7f7796307...  \n",
              "1  b94693673a5f7178d1b114e4004ad52377d3244dd24a3d...  \n",
              "2  96ea4e2bf04496c044745938c0299c264c3f4ba079e572...  \n",
              "3  1d2b34d8add02a182a4129023766ca4585a8ddced0e5b3...  \n",
              "4  fc10fffd29cfbe93c55158fb47752a7501c211d253468c...  "
            ]
          },
          "execution_count": 190,
          "metadata": {},
          "output_type": "execute_result"
        }
      ],
      "source": [
        "df.head(5)"
      ]
    },
    {
      "cell_type": "code",
      "execution_count": null,
      "id": "7a7e00c1",
      "metadata": {
        "id": "7a7e00c1",
        "outputId": "ee8fae0f-270e-4986-a42d-f201eb6f9ae0"
      },
      "outputs": [
        {
          "data": {
            "text/plain": [
              "LOST           43244\n",
              "WON             3073\n",
              "OPPORTUNITY      254\n",
              "CONTACTED         28\n",
              "PROCESSING         8\n",
              "IMPORTANT          1\n",
              "Name: status, dtype: int64"
            ]
          },
          "execution_count": 191,
          "metadata": {},
          "output_type": "execute_result"
        }
      ],
      "source": [
        "df.status.value_counts()"
      ]
    },
    {
      "cell_type": "code",
      "execution_count": null,
      "id": "3e6583a3",
      "metadata": {
        "id": "3e6583a3",
        "outputId": "444e13fd-8344-44f1-d0ac-648fd8aa3124"
      },
      "outputs": [
        {
          "data": {
            "text/plain": [
              "(46608, 16)"
            ]
          },
          "execution_count": 192,
          "metadata": {},
          "output_type": "execute_result"
        }
      ],
      "source": [
        "df.shape"
      ]
    },
    {
      "cell_type": "code",
      "execution_count": null,
      "id": "8d210780",
      "metadata": {
        "id": "8d210780",
        "outputId": "8e64c9b1-2403-4ef5-f71a-a83e9fca3d81"
      },
      "outputs": [
        {
          "data": {
            "text/plain": [
              "Unnamed: 0            0\n",
              "Agent_id              0\n",
              "status                0\n",
              "lost_reason        3364\n",
              "budget             3700\n",
              "lease              2341\n",
              "movein            13638\n",
              "source                0\n",
              "source_city           0\n",
              "source_country        0\n",
              "utm_source            0\n",
              "utm_medium            0\n",
              "des_city              0\n",
              "des_country           0\n",
              "room_type         23547\n",
              "lead_id               0\n",
              "dtype: int64"
            ]
          },
          "execution_count": 193,
          "metadata": {},
          "output_type": "execute_result"
        }
      ],
      "source": [
        "df.isnull().sum()"
      ]
    },
    {
      "cell_type": "code",
      "execution_count": null,
      "id": "bbd7d7f6",
      "metadata": {
        "id": "bbd7d7f6",
        "outputId": "8cd122cd-1ec8-4d63-8207-abcaeaaed4e4"
      },
      "outputs": [
        {
          "name": "stdout",
          "output_type": "stream",
          "text": [
            "[nan 'Ensuite' 'Entire Place' 'Studio' 'Twin-Studio' 'Non-Ensuite']\n"
          ]
        }
      ],
      "source": [
        "print(df['room_type'].unique())"
      ]
    },
    {
      "cell_type": "code",
      "execution_count": null,
      "id": "99b9bd1f",
      "metadata": {
        "id": "99b9bd1f",
        "outputId": "3a79b7d3-9f0c-4b78-be87-23b588871900"
      },
      "outputs": [
        {
          "name": "stdout",
          "output_type": "stream",
          "text": [
            "e09e10e67812e9d236ad900e5d46b4308fc62f5d69446a9750aa698e797e9c96    18812\n",
            "9b2d5b4678781e53038e91ea5324530a03f27dc1d0e5f6c9bc9d493a23be9de0     8641\n",
            "8da82000ef9c4468ba47362a924b895e40662fed846942a1870a674e5c6d1fc2     6999\n",
            "e39b0c5e88f19053d3a917669bc9d60729f351e064ca0c94f5dc73f4e676333f     2022\n",
            "38fe804a1f9ec032ad876bd7192c1f706e1402831e163cf72702b1f451f40cac      999\n",
            "                                                                    ...  \n",
            "0b6e4801d2a43e3c5dc06d5b68524bd9e80e425610b531d977b5713d59df47b6        1\n",
            "4a89aa60736d863a5fda8aa2305e299e1c3bea690fe4775363fbf2762102b273        1\n",
            "b828c41f8b20d533c028d8a4e1019fe0b16bb14d4b7114a662365d08e89a1bea        1\n",
            "39ae135c41c0e9f97bdbe7449f5320052c6a699cbf0fcbd95dc17f6465f0d34e        1\n",
            "282a5dbb9d8cb1ea0caf847b5aaca66cf1a76b5e57ddbbd2dd7db8204f553c5c        1\n",
            "Name: source_country, Length: 186, dtype: int64\n"
          ]
        }
      ],
      "source": [
        "print(df['source_country'].value_counts())"
      ]
    },
    {
      "cell_type": "code",
      "execution_count": null,
      "id": "20283c75",
      "metadata": {
        "id": "20283c75",
        "outputId": "a9efb1ad-3c90-40ed-e961-0654e389eb34"
      },
      "outputs": [
        {
          "name": "stdout",
          "output_type": "stream",
          "text": [
            "<class 'pandas.core.frame.DataFrame'>\n",
            "RangeIndex: 46608 entries, 0 to 46607\n",
            "Data columns (total 16 columns):\n",
            " #   Column          Non-Null Count  Dtype \n",
            "---  ------          --------------  ----- \n",
            " 0   Unnamed: 0      46608 non-null  int64 \n",
            " 1   Agent_id        46608 non-null  object\n",
            " 2   status          46608 non-null  object\n",
            " 3   lost_reason     43244 non-null  object\n",
            " 4   budget          42908 non-null  object\n",
            " 5   lease           44267 non-null  object\n",
            " 6   movein          32970 non-null  object\n",
            " 7   source          46608 non-null  object\n",
            " 8   source_city     46608 non-null  object\n",
            " 9   source_country  46608 non-null  object\n",
            " 10  utm_source      46608 non-null  object\n",
            " 11  utm_medium      46608 non-null  object\n",
            " 12  des_city        46608 non-null  object\n",
            " 13  des_country     46608 non-null  object\n",
            " 14  room_type       23061 non-null  object\n",
            " 15  lead_id         46608 non-null  object\n",
            "dtypes: int64(1), object(15)\n",
            "memory usage: 5.7+ MB\n"
          ]
        }
      ],
      "source": [
        "df.info()"
      ]
    },
    {
      "cell_type": "code",
      "execution_count": null,
      "id": "8a78ad45",
      "metadata": {
        "id": "8a78ad45",
        "outputId": "a7391ab4-d23f-4d9f-a969-0743c5da25df"
      },
      "outputs": [
        {
          "data": {
            "text/plain": [
              "<AxesSubplot:>"
            ]
          },
          "execution_count": 197,
          "metadata": {},
          "output_type": "execute_result"
        },
        {
          "data": {
            "image/png": "[encoded data removed]",
            "text/plain": [
              "<Figure size 432x288 with 1 Axes>"
            ]
          },
          "metadata": {
            "needs_background": "light"
          },
          "output_type": "display_data"
        }
      ],
      "source": [
        "sns.heatmap(df.isnull(),yticklabels=False, cbar=False,cmap='viridis')"
      ]
    },
    {
      "cell_type": "code",
      "execution_count": null,
      "id": "fbc0c971",
      "metadata": {
        "id": "fbc0c971",
        "outputId": "291f7614-e043-4fe2-cf09-5fa985a0be26"
      },
      "outputs": [
        {
          "data": {
            "text/plain": [
              "Unnamed: 0         int64\n",
              "Agent_id          object\n",
              "status            object\n",
              "lost_reason       object\n",
              "budget            object\n",
              "lease             object\n",
              "movein            object\n",
              "source            object\n",
              "source_city       object\n",
              "source_country    object\n",
              "utm_source        object\n",
              "utm_medium        object\n",
              "des_city          object\n",
              "des_country       object\n",
              "room_type         object\n",
              "lead_id           object\n",
              "dtype: object"
            ]
          },
          "execution_count": 198,
          "metadata": {},
          "output_type": "execute_result"
        }
      ],
      "source": [
        "df.dtypes"
      ]
    },
    {
      "cell_type": "code",
      "execution_count": null,
      "id": "82d49a91",
      "metadata": {
        "id": "82d49a91"
      },
      "outputs": [],
      "source": [
        "country_name=df.source_country.value_counts().index"
      ]
    },
    {
      "cell_type": "code",
      "execution_count": null,
      "id": "493a2007",
      "metadata": {
        "id": "493a2007",
        "outputId": "c1e7ba84-c29a-46e3-9335-d64b1bf25d35"
      },
      "outputs": [
        {
          "data": {
            "text/plain": [
              "e09e10e67812e9d236ad900e5d46b4308fc62f5d69446a9750aa698e797e9c96    18812\n",
              "9b2d5b4678781e53038e91ea5324530a03f27dc1d0e5f6c9bc9d493a23be9de0     8641\n",
              "8da82000ef9c4468ba47362a924b895e40662fed846942a1870a674e5c6d1fc2     6999\n",
              "e39b0c5e88f19053d3a917669bc9d60729f351e064ca0c94f5dc73f4e676333f     2022\n",
              "38fe804a1f9ec032ad876bd7192c1f706e1402831e163cf72702b1f451f40cac      999\n",
              "                                                                    ...  \n",
              "0b6e4801d2a43e3c5dc06d5b68524bd9e80e425610b531d977b5713d59df47b6        1\n",
              "4a89aa60736d863a5fda8aa2305e299e1c3bea690fe4775363fbf2762102b273        1\n",
              "b828c41f8b20d533c028d8a4e1019fe0b16bb14d4b7114a662365d08e89a1bea        1\n",
              "39ae135c41c0e9f97bdbe7449f5320052c6a699cbf0fcbd95dc17f6465f0d34e        1\n",
              "282a5dbb9d8cb1ea0caf847b5aaca66cf1a76b5e57ddbbd2dd7db8204f553c5c        1\n",
              "Name: source_country, Length: 186, dtype: int64"
            ]
          },
          "execution_count": 200,
          "metadata": {},
          "output_type": "execute_result"
        }
      ],
      "source": [
        "df.source_country.value_counts()"
      ]
    },
    {
      "cell_type": "code",
      "execution_count": null,
      "id": "6a319d74",
      "metadata": {
        "id": "6a319d74"
      },
      "outputs": [],
      "source": [
        "country_val=df.source_country.value_counts().values"
      ]
    },
    {
      "cell_type": "code",
      "execution_count": null,
      "id": "d645b780",
      "metadata": {
        "id": "d645b780",
        "outputId": "e97645e3-b885-4b6c-f8cd-9a06fe30492e"
      },
      "outputs": [
        {
          "data": {
            "text/plain": [
              "([<matplotlib.patches.Wedge at 0x1af4f23e640>,\n",
              "  <matplotlib.patches.Wedge at 0x1af4f23ed90>,\n",
              "  <matplotlib.patches.Wedge at 0x1af43baf040>,\n",
              "  <matplotlib.patches.Wedge at 0x1af4f247af0>,\n",
              "  <matplotlib.patches.Wedge at 0x1af4e5b2250>],\n",
              " [Text(-0.006962451123885664, 1.0999779653585555, 'e09e10e67812e9d236ad900e5d46b4308fc62f5d69446a9750aa698e797e9c96'),\n",
              "  Text(-0.8144722811142987, -0.7393476200654675, '9b2d5b4678781e53038e91ea5324530a03f27dc1d0e5f6c9bc9d493a23be9de0'),\n",
              "  Text(0.5055052685555069, -0.9769669510595663, '8da82000ef9c4468ba47362a924b895e40662fed846942a1870a674e5c6d1fc2'),\n",
              "  Text(1.0381181394878407, -0.36374541710694325, 'e39b0c5e88f19053d3a917669bc9d60729f351e064ca0c94f5dc73f4e676333f'),\n",
              "  Text(1.0961442927092653, -0.09202004977669218, '38fe804a1f9ec032ad876bd7192c1f706e1402831e163cf72702b1f451f40cac')],\n",
              " [Text(-0.0037977006130285435, 0.5999879811046666, '50.20%'),\n",
              "  Text(-0.44425760788052654, -0.4032805200357095, '23.06%'),\n",
              "  Text(0.2757301464848219, -0.5328910642143089, '18.68%'),\n",
              "  Text(0.5662462579024585, -0.19840659114924175, '5.40%'),\n",
              "  Text(0.5978968869323265, -0.050192754423650274, '2.67%')])"
            ]
          },
          "execution_count": 202,
          "metadata": {},
          "output_type": "execute_result"
        },
        {
          "data": {
            "image/png": "[encoded data removed]",
            "text/plain": [
              "<Figure size 432x288 with 1 Axes>"
            ]
          },
          "metadata": {},
          "output_type": "display_data"
        }
      ],
      "source": [
        "plt.pie(country_val[:5], labels=country_name[:5], autopct='%1.2f%%')"
      ]
    },
    {
      "cell_type": "code",
      "execution_count": null,
      "id": "3676dcb1",
      "metadata": {
        "id": "3676dcb1"
      },
      "outputs": [],
      "source": [
        "source_country_count=df.source_country.value_counts()"
      ]
    },
    {
      "cell_type": "code",
      "execution_count": null,
      "id": "f9068811",
      "metadata": {
        "id": "f9068811"
      },
      "outputs": [],
      "source": [
        "df = df[~df['source_country'].isin(source_country_count[source_country_count == 1].index)]"
      ]
    },
    {
      "cell_type": "code",
      "execution_count": null,
      "id": "85a647da",
      "metadata": {
        "id": "85a647da",
        "outputId": "d7996d9d-a821-4482-ca5d-5a4dfafa4bab"
      },
      "outputs": [
        {
          "data": {
            "text/plain": [
              "(46589, 16)"
            ]
          },
          "execution_count": 205,
          "metadata": {},
          "output_type": "execute_result"
        }
      ],
      "source": [
        "df.shape"
      ]
    },
    {
      "cell_type": "code",
      "execution_count": null,
      "id": "ff71aba7",
      "metadata": {
        "id": "ff71aba7",
        "outputId": "accbabc7-853e-4723-a11d-d3988c374ea8"
      },
      "outputs": [
        {
          "name": "stdout",
          "output_type": "stream",
          "text": [
            "Index(['e09e10e67812e9d236ad900e5d46b4308fc62f5d69446a9750aa698e797e9c96',\n",
            "       '9b2d5b4678781e53038e91ea5324530a03f27dc1d0e5f6c9bc9d493a23be9de0',\n",
            "       '8da82000ef9c4468ba47362a924b895e40662fed846942a1870a674e5c6d1fc2',\n",
            "       'e39b0c5e88f19053d3a917669bc9d60729f351e064ca0c94f5dc73f4e676333f',\n",
            "       '38fe804a1f9ec032ad876bd7192c1f706e1402831e163cf72702b1f451f40cac',\n",
            "       '0207c236c5ad89235d814b1e1807f6fdc1930810439489f76600e1672338e42b',\n",
            "       'b936ee09e20b3b2234907cde349cda1c1a5327c4a486bf27cee28623bb25bb12',\n",
            "       'c2863266ba318106a050f6f52c0a0e5ee19bdbacc19c0965979ae9f2b22354c6',\n",
            "       'e28406d05650a1fab7eb01a80ef73a2e3460a214fe48601b63f93d37a65ab966',\n",
            "       'cf3a9ac98c81ec1643e418e9647543cff130e4dc0b0b1f8ed8076de51905eaf0',\n",
            "       ...\n",
            "       '88bc83148daf504dc727efddbf0d5b8703486f1413ea394aeaf440a41b436700',\n",
            "       'dec99447cb0e9723a8690c856b07e4f0883aae8d6170c1f4a492605547f98ced',\n",
            "       '4f89c5f8c2b4b27a84096adff07e21c7878ece8a05425dad6a64e07dee5f96f7',\n",
            "       '148f817072d14c2d452cc2561fb9ab0bee3ed151cb9eae6bca1f32fd44a67937',\n",
            "       'be2311959da4c9db0628ae5d64dfe15a1fc7136d9b9149438b31d12b7afe4b71',\n",
            "       '9ae66d359cdd721900122aec113fd8da17a60b983d6da1fbeb631c1b6adfd19c',\n",
            "       '641460416699700bf1df2c3c4bcd6115ada495b43ee2e6b456e399214614b64b',\n",
            "       'b8f54bc9b66bbf1ce92610b08da10d3a15399e3bdfdf6362c2845da99d4e5797',\n",
            "       '487b4cb58717e1373891eb8e58cbd2324f46cd42cc37ab73b210974d0529502e',\n",
            "       '264913c61f74711cfa6fba144d1e8ea877f505b6c92446d9dd30aa3168be3c81'],\n",
            "      dtype='object', length=167)\n"
          ]
        }
      ],
      "source": [
        "print(df.source_country.value_counts().index)"
      ]
    },
    {
      "cell_type": "code",
      "execution_count": null,
      "id": "792e2b26",
      "metadata": {
        "id": "792e2b26",
        "outputId": "9474489a-2420-479a-901a-e7d683bad0cb"
      },
      "outputs": [
        {
          "data": {
            "text/plain": [
              "e09e10e67812e9d236ad900e5d46b4308fc62f5d69446a9750aa698e797e9c96    18812\n",
              "9b2d5b4678781e53038e91ea5324530a03f27dc1d0e5f6c9bc9d493a23be9de0     8641\n",
              "8da82000ef9c4468ba47362a924b895e40662fed846942a1870a674e5c6d1fc2     6999\n",
              "e39b0c5e88f19053d3a917669bc9d60729f351e064ca0c94f5dc73f4e676333f     2022\n",
              "38fe804a1f9ec032ad876bd7192c1f706e1402831e163cf72702b1f451f40cac      999\n",
              "                                                                    ...  \n",
              "9ae66d359cdd721900122aec113fd8da17a60b983d6da1fbeb631c1b6adfd19c        2\n",
              "641460416699700bf1df2c3c4bcd6115ada495b43ee2e6b456e399214614b64b        2\n",
              "b8f54bc9b66bbf1ce92610b08da10d3a15399e3bdfdf6362c2845da99d4e5797        2\n",
              "487b4cb58717e1373891eb8e58cbd2324f46cd42cc37ab73b210974d0529502e        2\n",
              "264913c61f74711cfa6fba144d1e8ea877f505b6c92446d9dd30aa3168be3c81        2\n",
              "Name: source_country, Length: 167, dtype: int64"
            ]
          },
          "execution_count": 207,
          "metadata": {},
          "output_type": "execute_result"
        }
      ],
      "source": [
        "df.source_country.value_counts()"
      ]
    },
    {
      "cell_type": "code",
      "execution_count": null,
      "id": "b55c0c9b",
      "metadata": {
        "id": "b55c0c9b",
        "outputId": "3ad8f199-25fb-4211-cb2c-692e3bfa2c67"
      },
      "outputs": [
        {
          "data": {
            "text/plain": [
              "([<matplotlib.patches.Wedge at 0x1af4e5e7fa0>,\n",
              "  <matplotlib.patches.Wedge at 0x1af4eb534c0>,\n",
              "  <matplotlib.patches.Wedge at 0x1af4eb53be0>,\n",
              "  <matplotlib.patches.Wedge at 0x1af4eb62340>,\n",
              "  <matplotlib.patches.Wedge at 0x1af4eb62a60>],\n",
              " [Text(-0.006962451123885664, 1.0999779653585555, 'e09e10e67812e9d236ad900e5d46b4308fc62f5d69446a9750aa698e797e9c96'),\n",
              "  Text(-0.8144722811142987, -0.7393476200654675, '9b2d5b4678781e53038e91ea5324530a03f27dc1d0e5f6c9bc9d493a23be9de0'),\n",
              "  Text(0.5055052685555069, -0.9769669510595663, '8da82000ef9c4468ba47362a924b895e40662fed846942a1870a674e5c6d1fc2'),\n",
              "  Text(1.0381181394878407, -0.36374541710694325, 'e39b0c5e88f19053d3a917669bc9d60729f351e064ca0c94f5dc73f4e676333f'),\n",
              "  Text(1.0961442927092653, -0.09202004977669218, '38fe804a1f9ec032ad876bd7192c1f706e1402831e163cf72702b1f451f40cac')],\n",
              " [Text(-0.0037977006130285435, 0.5999879811046666, '50.20%'),\n",
              "  Text(-0.44425760788052654, -0.4032805200357095, '23.06%'),\n",
              "  Text(0.2757301464848219, -0.5328910642143089, '18.68%'),\n",
              "  Text(0.5662462579024585, -0.19840659114924175, '5.40%'),\n",
              "  Text(0.5978968869323265, -0.050192754423650274, '2.67%')])"
            ]
          },
          "execution_count": 208,
          "metadata": {},
          "output_type": "execute_result"
        },
        {
          "data": {
            "image/png": "[encoded data removed]",
            "text/plain": [
              "<Figure size 432x288 with 1 Axes>"
            ]
          },
          "metadata": {},
          "output_type": "display_data"
        }
      ],
      "source": [
        "plt.pie(country_val[:5], labels=country_name[:5], autopct='%1.2f%%')"
      ]
    },
    {
      "cell_type": "code",
      "execution_count": null,
      "id": "00142076",
      "metadata": {
        "id": "00142076",
        "outputId": "439a810b-e439-49b9-f6e3-00a18ad515b2"
      },
      "outputs": [
        {
          "data": {
            "text/plain": [
              "9b2d5b4678781e53038e91ea5324530a03f27dc1d0e5f6c9bc9d493a23be9de0    8850\n",
              "ecc0e7dc084f141b29479058967d0bc07dee25d9690a98ee4e6fdad5168274d7    3044\n",
              "b384863fa1f6e091164b74219726eee0b9dd47776b91a4dc71fd0516630d21ec    1441\n",
              "9f2ba6981e36ea0fca6c16f42e6413d788d2a7499b8b7f418c5d76f12d191f02     862\n",
              "7d1550b844ff586a6023216c06263105eed0a849a2a1f69bb8862ab288d8cdab     761\n",
              "                                                                    ... \n",
              "19020e4c144c370b4c67f70d97cb349c020e349f76b631572367b6a70569f4b0       1\n",
              "37128ec86f80369f35daa1fed0584835de209c8acd91dc57b4e2fbe06dc618e8       1\n",
              "aa4c378e5ba1821ad411e525cbba25e440239842fbf869bc256842087811b1c9       1\n",
              "af748057fa2956d8465363eb298976aed8f477c836b66b7135bae78dadfa1ce5       1\n",
              "d650065b53c2284b98e575d37e1be820599bf33baff5e147770547a984975d2f       1\n",
              "Name: source_city, Length: 4319, dtype: int64"
            ]
          },
          "execution_count": 210,
          "metadata": {},
          "output_type": "execute_result"
        }
      ],
      "source": [
        "df.source_city.value_counts()"
      ]
    },
    {
      "cell_type": "code",
      "execution_count": null,
      "id": "7e1a10d2",
      "metadata": {
        "id": "7e1a10d2"
      },
      "outputs": [],
      "source": [
        "city_name=df.source_city.value_counts().index"
      ]
    },
    {
      "cell_type": "code",
      "execution_count": null,
      "id": "b10ae5f1",
      "metadata": {
        "id": "b10ae5f1"
      },
      "outputs": [],
      "source": [
        "city_val=df.source_city.value_counts().values"
      ]
    },
    {
      "cell_type": "code",
      "execution_count": null,
      "id": "50834357",
      "metadata": {
        "id": "50834357",
        "outputId": "11a38091-aa2d-4bf6-d171-4c20cc5b4274"
      },
      "outputs": [
        {
          "data": {
            "text/plain": [
              "([<matplotlib.patches.Wedge at 0x1af4eba2a00>,\n",
              "  <matplotlib.patches.Wedge at 0x1af4ebb30d0>,\n",
              "  <matplotlib.patches.Wedge at 0x1af4ebb37f0>,\n",
              "  <matplotlib.patches.Wedge at 0x1af4ebb3f10>,\n",
              "  <matplotlib.patches.Wedge at 0x1af4ebbe670>],\n",
              " [Text(-0.31238360742477655, 1.0547115633253876, '9b2d5b4678781e53038e91ea5324530a03f27dc1d0e5f6c9bc9d493a23be9de0'),\n",
              "  Text(-0.38294422999853817, -1.0311904366851097, 'ecc0e7dc084f141b29479058967d0bc07dee25d9690a98ee4e6fdad5168274d7'),\n",
              "  Text(0.6086998674504729, -0.9162338518990536, 'b384863fa1f6e091164b74219726eee0b9dd47776b91a4dc71fd0516630d21ec'),\n",
              "  Text(0.9649683505751213, -0.5280493181402, '9f2ba6981e36ea0fca6c16f42e6413d788d2a7499b8b7f418c5d76f12d191f02'),\n",
              "  Text(1.0859796056639905, -0.17506654758086704, '7d1550b844ff586a6023216c06263105eed0a849a2a1f69bb8862ab288d8cdab')],\n",
              " [Text(-0.17039105859533263, 0.5752972163593023, '59.17%'),\n",
              "  Text(-0.2088786709082935, -0.5624675109191506, '20.35%'),\n",
              "  Text(0.3320181095184397, -0.49976391921766555, '9.63%'),\n",
              "  Text(0.5263463730409752, -0.2880269008037454, '5.76%'),\n",
              "  Text(0.5923525121803583, -0.09549084413501838, '5.09%')])"
            ]
          },
          "execution_count": 213,
          "metadata": {},
          "output_type": "execute_result"
        },
        {
          "data": {
            "image/png": "[encoded data removed]",
            "text/plain": [
              "<Figure size 432x288 with 1 Axes>"
            ]
          },
          "metadata": {},
          "output_type": "display_data"
        }
      ],
      "source": [
        "plt.pie(city_val[:5], labels=city_name[:5], autopct='%1.2f%%')"
      ]
    },
    {
      "cell_type": "code",
      "execution_count": null,
      "id": "528d78a9",
      "metadata": {
        "id": "528d78a9"
      },
      "outputs": [],
      "source": [
        "df = df[df['status'].isin(['WON', 'LOST'])]"
      ]
    },
    {
      "cell_type": "code",
      "execution_count": null,
      "id": "a132df61",
      "metadata": {
        "id": "a132df61",
        "outputId": "d777e73f-3204-49e6-b055-2eb7341d8a66"
      },
      "outputs": [
        {
          "data": {
            "text/plain": [
              "(46299, 16)"
            ]
          },
          "execution_count": 215,
          "metadata": {},
          "output_type": "execute_result"
        }
      ],
      "source": [
        "df.shape"
      ]
    },
    {
      "cell_type": "code",
      "execution_count": null,
      "id": "5fef1c8d",
      "metadata": {
        "id": "5fef1c8d"
      },
      "outputs": [],
      "source": [
        "df.replace('9b2d5b4678781e53038e91ea5324530a03f27dc1d0e5f6c9bc9d493a23be9de0', np.nan, inplace=True)"
      ]
    },
    {
      "cell_type": "code",
      "execution_count": null,
      "id": "fdc4b352",
      "metadata": {
        "id": "fdc4b352",
        "outputId": "7e8206f7-af3b-4fe8-bf9d-55c18a4185fe"
      },
      "outputs": [
        {
          "data": {
            "text/html": [
              "<div>\n",
              "<style scoped>\n",
              "    .dataframe tbody tr th:only-of-type {\n",
              "        vertical-align: middle;\n",
              "    }\n",
              "\n",
              "    .dataframe tbody tr th {\n",
              "        vertical-align: top;\n",
              "    }\n",
              "\n",
              "    .dataframe thead th {\n",
              "        text-align: right;\n",
              "    }\n",
              "</style>\n",
              "<table border=\"1\" class=\"dataframe\">\n",
              "  <thead>\n",
              "    <tr style=\"text-align: right;\">\n",
              "      <th></th>\n",
              "      <th>Unnamed: 0</th>\n",
              "      <th>Agent_id</th>\n",
              "      <th>status</th>\n",
              "      <th>lost_reason</th>\n",
              "      <th>budget</th>\n",
              "      <th>lease</th>\n",
              "      <th>movein</th>\n",
              "      <th>source</th>\n",
              "      <th>source_city</th>\n",
              "      <th>source_country</th>\n",
              "      <th>utm_source</th>\n",
              "      <th>utm_medium</th>\n",
              "      <th>des_city</th>\n",
              "      <th>des_country</th>\n",
              "      <th>room_type</th>\n",
              "      <th>lead_id</th>\n",
              "    </tr>\n",
              "  </thead>\n",
              "  <tbody>\n",
              "    <tr>\n",
              "      <th>0</th>\n",
              "      <td>0</td>\n",
              "      <td>1deba9e96f404694373de9749ddd1ca8aa7bb823145a6f...</td>\n",
              "      <td>LOST</td>\n",
              "      <td>Not responding</td>\n",
              "      <td>NaN</td>\n",
              "      <td>NaN</td>\n",
              "      <td>NaN</td>\n",
              "      <td>NaN</td>\n",
              "      <td>NaN</td>\n",
              "      <td>NaN</td>\n",
              "      <td>3d59f7548e1af2151b64135003ce63c0a484c26b9b8b16...</td>\n",
              "      <td>268ad70eb5bc4737a2ae28162cbca30118cc94520e49ef...</td>\n",
              "      <td>ecc0e7dc084f141b29479058967d0bc07dee25d9690a98...</td>\n",
              "      <td>8d23a6e37e0a6431a8f1b43a91026dcff51170a89a6512...</td>\n",
              "      <td>NaN</td>\n",
              "      <td>cd5dc0d9393f3980d11d4ba6f88f8110c2b7a7f7796307...</td>\n",
              "    </tr>\n",
              "    <tr>\n",
              "      <th>1</th>\n",
              "      <td>1</td>\n",
              "      <td>299ae77a4ef350ae0dd37d6bba1c002d03444fb1edb236...</td>\n",
              "      <td>LOST</td>\n",
              "      <td>Low budget</td>\n",
              "      <td>NaN</td>\n",
              "      <td>NaN</td>\n",
              "      <td>NaN</td>\n",
              "      <td>NaN</td>\n",
              "      <td>NaN</td>\n",
              "      <td>NaN</td>\n",
              "      <td>3d59f7548e1af2151b64135003ce63c0a484c26b9b8b16...</td>\n",
              "      <td>268ad70eb5bc4737a2ae28162cbca30118cc94520e49ef...</td>\n",
              "      <td>5372372f3bf5896820cb2819300c3e681820d82c6efc54...</td>\n",
              "      <td>8d23a6e37e0a6431a8f1b43a91026dcff51170a89a6512...</td>\n",
              "      <td>NaN</td>\n",
              "      <td>b94693673a5f7178d1b114e4004ad52377d3244dd24a3d...</td>\n",
              "    </tr>\n",
              "    <tr>\n",
              "      <th>2</th>\n",
              "      <td>2</td>\n",
              "      <td>c213697430c006013012dd2aca82dd9732aa0a1a6bca13...</td>\n",
              "      <td>LOST</td>\n",
              "      <td>Not responding</td>\n",
              "      <td>£121 - £180 Per Week</td>\n",
              "      <td>Full Year Course Stay 40 - 44 weeks</td>\n",
              "      <td>31/08/22</td>\n",
              "      <td>7aae3e886e89fc1187a5c47d6cea1c22998ee610ade1f2...</td>\n",
              "      <td>9b8cc3c63cdf447e463c11544924bf027945cbd29675f7...</td>\n",
              "      <td>e09e10e67812e9d236ad900e5d46b4308fc62f5d69446a...</td>\n",
              "      <td>bbdefa2950f49882f295b1285d4fa9dec45fc4144bfb07...</td>\n",
              "      <td>09076eb7665d1fb9389c7c4517fee0b00e43092eb34821...</td>\n",
              "      <td>11ab03a1a8c367191355c152f39fe28cae5e426fce49ef...</td>\n",
              "      <td>8d23a6e37e0a6431a8f1b43a91026dcff51170a89a6512...</td>\n",
              "      <td>Ensuite</td>\n",
              "      <td>96ea4e2bf04496c044745938c0299c264c3f4ba079e572...</td>\n",
              "    </tr>\n",
              "    <tr>\n",
              "      <th>3</th>\n",
              "      <td>3</td>\n",
              "      <td>eac9815a500f908736d303e23aa227f0957177b0e6756b...</td>\n",
              "      <td>LOST</td>\n",
              "      <td>Low budget</td>\n",
              "      <td>0-0</td>\n",
              "      <td>0</td>\n",
              "      <td>NaN</td>\n",
              "      <td>ba2d0a29556ac20f86f45e4543c0825428cba33fd7a9ea...</td>\n",
              "      <td>a5f0d2d08eb0592087e3a3a2f9c1ba2c67cc30f2efd2bd...</td>\n",
              "      <td>e09e10e67812e9d236ad900e5d46b4308fc62f5d69446a...</td>\n",
              "      <td>bbdefa2950f49882f295b1285d4fa9dec45fc4144bfb07...</td>\n",
              "      <td>09076eb7665d1fb9389c7c4517fee0b00e43092eb34821...</td>\n",
              "      <td>19372fa44c57a01c37a5a8418779ca3d99b0b59731fb35...</td>\n",
              "      <td>8d23a6e37e0a6431a8f1b43a91026dcff51170a89a6512...</td>\n",
              "      <td>NaN</td>\n",
              "      <td>1d2b34d8add02a182a4129023766ca4585a8ddced0e5b3...</td>\n",
              "    </tr>\n",
              "    <tr>\n",
              "      <th>4</th>\n",
              "      <td>4</td>\n",
              "      <td>1deba9e96f404694373de9749ddd1ca8aa7bb823145a6f...</td>\n",
              "      <td>LOST</td>\n",
              "      <td>Junk lead</td>\n",
              "      <td>NaN</td>\n",
              "      <td>NaN</td>\n",
              "      <td>NaN</td>\n",
              "      <td>NaN</td>\n",
              "      <td>NaN</td>\n",
              "      <td>NaN</td>\n",
              "      <td>3d59f7548e1af2151b64135003ce63c0a484c26b9b8b16...</td>\n",
              "      <td>268ad70eb5bc4737a2ae28162cbca30118cc94520e49ef...</td>\n",
              "      <td>NaN</td>\n",
              "      <td>NaN</td>\n",
              "      <td>NaN</td>\n",
              "      <td>fc10fffd29cfbe93c55158fb47752a7501c211d253468c...</td>\n",
              "    </tr>\n",
              "  </tbody>\n",
              "</table>\n",
              "</div>"
            ],
            "text/plain": [
              "   Unnamed: 0                                           Agent_id status  \\\n",
              "0           0  1deba9e96f404694373de9749ddd1ca8aa7bb823145a6f...   LOST   \n",
              "1           1  299ae77a4ef350ae0dd37d6bba1c002d03444fb1edb236...   LOST   \n",
              "2           2  c213697430c006013012dd2aca82dd9732aa0a1a6bca13...   LOST   \n",
              "3           3  eac9815a500f908736d303e23aa227f0957177b0e6756b...   LOST   \n",
              "4           4  1deba9e96f404694373de9749ddd1ca8aa7bb823145a6f...   LOST   \n",
              "\n",
              "      lost_reason                budget                                lease  \\\n",
              "0  Not responding                   NaN                                  NaN   \n",
              "1      Low budget                   NaN                                  NaN   \n",
              "2  Not responding  £121 - £180 Per Week  Full Year Course Stay 40 - 44 weeks   \n",
              "3      Low budget                   0-0                                    0   \n",
              "4       Junk lead                   NaN                                  NaN   \n",
              "\n",
              "     movein                                             source  \\\n",
              "0       NaN                                                NaN   \n",
              "1       NaN                                                NaN   \n",
              "2  31/08/22  7aae3e886e89fc1187a5c47d6cea1c22998ee610ade1f2...   \n",
              "3       NaN  ba2d0a29556ac20f86f45e4543c0825428cba33fd7a9ea...   \n",
              "4       NaN                                                NaN   \n",
              "\n",
              "                                         source_city  \\\n",
              "0                                                NaN   \n",
              "1                                                NaN   \n",
              "2  9b8cc3c63cdf447e463c11544924bf027945cbd29675f7...   \n",
              "3  a5f0d2d08eb0592087e3a3a2f9c1ba2c67cc30f2efd2bd...   \n",
              "4                                                NaN   \n",
              "\n",
              "                                      source_country  \\\n",
              "0                                                NaN   \n",
              "1                                                NaN   \n",
              "2  e09e10e67812e9d236ad900e5d46b4308fc62f5d69446a...   \n",
              "3  e09e10e67812e9d236ad900e5d46b4308fc62f5d69446a...   \n",
              "4                                                NaN   \n",
              "\n",
              "                                          utm_source  \\\n",
              "0  3d59f7548e1af2151b64135003ce63c0a484c26b9b8b16...   \n",
              "1  3d59f7548e1af2151b64135003ce63c0a484c26b9b8b16...   \n",
              "2  bbdefa2950f49882f295b1285d4fa9dec45fc4144bfb07...   \n",
              "3  bbdefa2950f49882f295b1285d4fa9dec45fc4144bfb07...   \n",
              "4  3d59f7548e1af2151b64135003ce63c0a484c26b9b8b16...   \n",
              "\n",
              "                                          utm_medium  \\\n",
              "0  268ad70eb5bc4737a2ae28162cbca30118cc94520e49ef...   \n",
              "1  268ad70eb5bc4737a2ae28162cbca30118cc94520e49ef...   \n",
              "2  09076eb7665d1fb9389c7c4517fee0b00e43092eb34821...   \n",
              "3  09076eb7665d1fb9389c7c4517fee0b00e43092eb34821...   \n",
              "4  268ad70eb5bc4737a2ae28162cbca30118cc94520e49ef...   \n",
              "\n",
              "                                            des_city  \\\n",
              "0  ecc0e7dc084f141b29479058967d0bc07dee25d9690a98...   \n",
              "1  5372372f3bf5896820cb2819300c3e681820d82c6efc54...   \n",
              "2  11ab03a1a8c367191355c152f39fe28cae5e426fce49ef...   \n",
              "3  19372fa44c57a01c37a5a8418779ca3d99b0b59731fb35...   \n",
              "4                                                NaN   \n",
              "\n",
              "                                         des_country room_type  \\\n",
              "0  8d23a6e37e0a6431a8f1b43a91026dcff51170a89a6512...       NaN   \n",
              "1  8d23a6e37e0a6431a8f1b43a91026dcff51170a89a6512...       NaN   \n",
              "2  8d23a6e37e0a6431a8f1b43a91026dcff51170a89a6512...   Ensuite   \n",
              "3  8d23a6e37e0a6431a8f1b43a91026dcff51170a89a6512...       NaN   \n",
              "4                                                NaN       NaN   \n",
              "\n",
              "                                             lead_id  \n",
              "0  cd5dc0d9393f3980d11d4ba6f88f8110c2b7a7f7796307...  \n",
              "1  b94693673a5f7178d1b114e4004ad52377d3244dd24a3d...  \n",
              "2  96ea4e2bf04496c044745938c0299c264c3f4ba079e572...  \n",
              "3  1d2b34d8add02a182a4129023766ca4585a8ddced0e5b3...  \n",
              "4  fc10fffd29cfbe93c55158fb47752a7501c211d253468c...  "
            ]
          },
          "execution_count": 217,
          "metadata": {},
          "output_type": "execute_result"
        }
      ],
      "source": [
        "df.head(5)"
      ]
    },
    {
      "cell_type": "code",
      "execution_count": null,
      "id": "ff2a7744",
      "metadata": {
        "id": "ff2a7744"
      },
      "outputs": [],
      "source": [
        "# Drop any columns with more than 50% missing values\n",
        "df.dropna(thresh=df.shape[0]*0.5, axis=1, inplace=True)"
      ]
    },
    {
      "cell_type": "code",
      "execution_count": null,
      "id": "b7b5fa02",
      "metadata": {
        "id": "b7b5fa02",
        "outputId": "73d3b57e-ec0b-45bb-d7a3-a02448d98f39"
      },
      "outputs": [
        {
          "data": {
            "text/plain": [
              "(46299, 15)"
            ]
          },
          "execution_count": 219,
          "metadata": {},
          "output_type": "execute_result"
        }
      ],
      "source": [
        "df.shape"
      ]
    },
    {
      "cell_type": "code",
      "execution_count": null,
      "id": "90d612f9",
      "metadata": {
        "id": "90d612f9"
      },
      "outputs": [],
      "source": [
        "df1=df.dropna()"
      ]
    },
    {
      "cell_type": "code",
      "execution_count": null,
      "id": "622c3c1d",
      "metadata": {
        "id": "622c3c1d",
        "outputId": "f5a0666d-ddf1-4767-ab8c-eda1f078012e"
      },
      "outputs": [
        {
          "data": {
            "text/plain": [
              "Unnamed: 0        0\n",
              "Agent_id          0\n",
              "status            0\n",
              "lost_reason       0\n",
              "budget            0\n",
              "lease             0\n",
              "movein            0\n",
              "source            0\n",
              "source_city       0\n",
              "source_country    0\n",
              "utm_source        0\n",
              "utm_medium        0\n",
              "des_city          0\n",
              "des_country       0\n",
              "lead_id           0\n",
              "dtype: int64"
            ]
          },
          "execution_count": 221,
          "metadata": {},
          "output_type": "execute_result"
        }
      ],
      "source": [
        "df1.isnull().sum()"
      ]
    },
    {
      "cell_type": "code",
      "execution_count": null,
      "id": "0e15e690",
      "metadata": {
        "id": "0e15e690"
      },
      "outputs": [],
      "source": [
        "df1 = df1.astype('category')"
      ]
    },
    {
      "cell_type": "code",
      "execution_count": null,
      "id": "b036a469",
      "metadata": {
        "id": "b036a469",
        "outputId": "5a395dee-455b-4bc5-f660-a0df81a88a0b"
      },
      "outputs": [
        {
          "data": {
            "text/html": [
              "<div>\n",
              "<style scoped>\n",
              "    .dataframe tbody tr th:only-of-type {\n",
              "        vertical-align: middle;\n",
              "    }\n",
              "\n",
              "    .dataframe tbody tr th {\n",
              "        vertical-align: top;\n",
              "    }\n",
              "\n",
              "    .dataframe thead th {\n",
              "        text-align: right;\n",
              "    }\n",
              "</style>\n",
              "<table border=\"1\" class=\"dataframe\">\n",
              "  <thead>\n",
              "    <tr style=\"text-align: right;\">\n",
              "      <th></th>\n",
              "      <th>Unnamed: 0</th>\n",
              "      <th>Agent_id</th>\n",
              "      <th>status</th>\n",
              "      <th>lost_reason</th>\n",
              "      <th>budget</th>\n",
              "      <th>lease</th>\n",
              "      <th>movein</th>\n",
              "      <th>source</th>\n",
              "      <th>source_city</th>\n",
              "      <th>source_country</th>\n",
              "      <th>utm_source</th>\n",
              "      <th>utm_medium</th>\n",
              "      <th>des_city</th>\n",
              "      <th>des_country</th>\n",
              "      <th>lead_id</th>\n",
              "    </tr>\n",
              "  </thead>\n",
              "  <tbody>\n",
              "    <tr>\n",
              "      <th>2</th>\n",
              "      <td>2</td>\n",
              "      <td>c213697430c006013012dd2aca82dd9732aa0a1a6bca13...</td>\n",
              "      <td>LOST</td>\n",
              "      <td>Not responding</td>\n",
              "      <td>£121 - £180 Per Week</td>\n",
              "      <td>Full Year Course Stay 40 - 44 weeks</td>\n",
              "      <td>31/08/22</td>\n",
              "      <td>7aae3e886e89fc1187a5c47d6cea1c22998ee610ade1f2...</td>\n",
              "      <td>9b8cc3c63cdf447e463c11544924bf027945cbd29675f7...</td>\n",
              "      <td>e09e10e67812e9d236ad900e5d46b4308fc62f5d69446a...</td>\n",
              "      <td>bbdefa2950f49882f295b1285d4fa9dec45fc4144bfb07...</td>\n",
              "      <td>09076eb7665d1fb9389c7c4517fee0b00e43092eb34821...</td>\n",
              "      <td>11ab03a1a8c367191355c152f39fe28cae5e426fce49ef...</td>\n",
              "      <td>8d23a6e37e0a6431a8f1b43a91026dcff51170a89a6512...</td>\n",
              "      <td>96ea4e2bf04496c044745938c0299c264c3f4ba079e572...</td>\n",
              "    </tr>\n",
              "    <tr>\n",
              "      <th>7</th>\n",
              "      <td>7</td>\n",
              "      <td>44864c96fa1c36602f0d045b268981b6cab638a60fc207...</td>\n",
              "      <td>LOST</td>\n",
              "      <td>Wants private accommodation</td>\n",
              "      <td>£181 - £240 Per Week</td>\n",
              "      <td>51</td>\n",
              "      <td>08/09/22</td>\n",
              "      <td>7aae3e886e89fc1187a5c47d6cea1c22998ee610ade1f2...</td>\n",
              "      <td>8593b9db65212160979d946950601c26622a219c80f1f1...</td>\n",
              "      <td>e09e10e67812e9d236ad900e5d46b4308fc62f5d69446a...</td>\n",
              "      <td>bbdefa2950f49882f295b1285d4fa9dec45fc4144bfb07...</td>\n",
              "      <td>09076eb7665d1fb9389c7c4517fee0b00e43092eb34821...</td>\n",
              "      <td>8593b9db65212160979d946950601c26622a219c80f1f1...</td>\n",
              "      <td>8d23a6e37e0a6431a8f1b43a91026dcff51170a89a6512...</td>\n",
              "      <td>96ea4e2bf04496c044745938c0299c264c3f4ba079e572...</td>\n",
              "    </tr>\n",
              "    <tr>\n",
              "      <th>11</th>\n",
              "      <td>11</td>\n",
              "      <td>d4192f06768ab0f257c7f5e17ad021b075b995d4a18675...</td>\n",
              "      <td>LOST</td>\n",
              "      <td>Not responding</td>\n",
              "      <td>£121 - £180 Per Week</td>\n",
              "      <td>Full Year Course Stay 40 - 44 weeks</td>\n",
              "      <td>15/09/22</td>\n",
              "      <td>7aae3e886e89fc1187a5c47d6cea1c22998ee610ade1f2...</td>\n",
              "      <td>1f8d4925b8e2af054b06d2ec62e202bae9b4ce53caea34...</td>\n",
              "      <td>e09e10e67812e9d236ad900e5d46b4308fc62f5d69446a...</td>\n",
              "      <td>bbdefa2950f49882f295b1285d4fa9dec45fc4144bfb07...</td>\n",
              "      <td>09076eb7665d1fb9389c7c4517fee0b00e43092eb34821...</td>\n",
              "      <td>11ab03a1a8c367191355c152f39fe28cae5e426fce49ef...</td>\n",
              "      <td>8d23a6e37e0a6431a8f1b43a91026dcff51170a89a6512...</td>\n",
              "      <td>350c5ab8ccefe5621715f9f6e56cb234b62cd4eabce310...</td>\n",
              "    </tr>\n",
              "    <tr>\n",
              "      <th>12</th>\n",
              "      <td>12</td>\n",
              "      <td>44864c96fa1c36602f0d045b268981b6cab638a60fc207...</td>\n",
              "      <td>LOST</td>\n",
              "      <td>Wants private accommodation</td>\n",
              "      <td>£121 - £180 Per Week</td>\n",
              "      <td>Full Year Course Stay 40 - 44 weeks</td>\n",
              "      <td>02/09/22</td>\n",
              "      <td>7aae3e886e89fc1187a5c47d6cea1c22998ee610ade1f2...</td>\n",
              "      <td>b1d2dad941873eb0d834c6c8f16f32bcbfbb437956f4e1...</td>\n",
              "      <td>e09e10e67812e9d236ad900e5d46b4308fc62f5d69446a...</td>\n",
              "      <td>bbdefa2950f49882f295b1285d4fa9dec45fc4144bfb07...</td>\n",
              "      <td>09076eb7665d1fb9389c7c4517fee0b00e43092eb34821...</td>\n",
              "      <td>8593b9db65212160979d946950601c26622a219c80f1f1...</td>\n",
              "      <td>8d23a6e37e0a6431a8f1b43a91026dcff51170a89a6512...</td>\n",
              "      <td>2d664bae493ee238f2f4ee17c91d4f8a0a7eaef64c3d58...</td>\n",
              "    </tr>\n",
              "    <tr>\n",
              "      <th>13</th>\n",
              "      <td>13</td>\n",
              "      <td>50750ee66f27656c2b34d43078a064c3b9b8807938b6a3...</td>\n",
              "      <td>LOST</td>\n",
              "      <td>Not responding</td>\n",
              "      <td>£181 - £240 Per Week</td>\n",
              "      <td>Complete Education Year Stay 50 - 52 weeks</td>\n",
              "      <td>04/09/22</td>\n",
              "      <td>7aae3e886e89fc1187a5c47d6cea1c22998ee610ade1f2...</td>\n",
              "      <td>912b4e4c705217bbf4d094839c6e6c2ee7af4328cd9710...</td>\n",
              "      <td>e09e10e67812e9d236ad900e5d46b4308fc62f5d69446a...</td>\n",
              "      <td>bbdefa2950f49882f295b1285d4fa9dec45fc4144bfb07...</td>\n",
              "      <td>09076eb7665d1fb9389c7c4517fee0b00e43092eb34821...</td>\n",
              "      <td>810c069040f6a9b16fdf976a901755508a87cb0224b169...</td>\n",
              "      <td>8d23a6e37e0a6431a8f1b43a91026dcff51170a89a6512...</td>\n",
              "      <td>12a382afc12ec36c5e30b1c95a6093c3f535248f20b701...</td>\n",
              "    </tr>\n",
              "  </tbody>\n",
              "</table>\n",
              "</div>"
            ],
            "text/plain": [
              "   Unnamed: 0                                           Agent_id status  \\\n",
              "2           2  c213697430c006013012dd2aca82dd9732aa0a1a6bca13...   LOST   \n",
              "7           7  44864c96fa1c36602f0d045b268981b6cab638a60fc207...   LOST   \n",
              "11         11  d4192f06768ab0f257c7f5e17ad021b075b995d4a18675...   LOST   \n",
              "12         12  44864c96fa1c36602f0d045b268981b6cab638a60fc207...   LOST   \n",
              "13         13  50750ee66f27656c2b34d43078a064c3b9b8807938b6a3...   LOST   \n",
              "\n",
              "                    lost_reason                budget  \\\n",
              "2                Not responding  £121 - £180 Per Week   \n",
              "7   Wants private accommodation  £181 - £240 Per Week   \n",
              "11               Not responding  £121 - £180 Per Week   \n",
              "12  Wants private accommodation  £121 - £180 Per Week   \n",
              "13               Not responding  £181 - £240 Per Week   \n",
              "\n",
              "                                         lease    movein  \\\n",
              "2          Full Year Course Stay 40 - 44 weeks  31/08/22   \n",
              "7                                           51  08/09/22   \n",
              "11         Full Year Course Stay 40 - 44 weeks  15/09/22   \n",
              "12         Full Year Course Stay 40 - 44 weeks  02/09/22   \n",
              "13  Complete Education Year Stay 50 - 52 weeks  04/09/22   \n",
              "\n",
              "                                               source  \\\n",
              "2   7aae3e886e89fc1187a5c47d6cea1c22998ee610ade1f2...   \n",
              "7   7aae3e886e89fc1187a5c47d6cea1c22998ee610ade1f2...   \n",
              "11  7aae3e886e89fc1187a5c47d6cea1c22998ee610ade1f2...   \n",
              "12  7aae3e886e89fc1187a5c47d6cea1c22998ee610ade1f2...   \n",
              "13  7aae3e886e89fc1187a5c47d6cea1c22998ee610ade1f2...   \n",
              "\n",
              "                                          source_city  \\\n",
              "2   9b8cc3c63cdf447e463c11544924bf027945cbd29675f7...   \n",
              "7   8593b9db65212160979d946950601c26622a219c80f1f1...   \n",
              "11  1f8d4925b8e2af054b06d2ec62e202bae9b4ce53caea34...   \n",
              "12  b1d2dad941873eb0d834c6c8f16f32bcbfbb437956f4e1...   \n",
              "13  912b4e4c705217bbf4d094839c6e6c2ee7af4328cd9710...   \n",
              "\n",
              "                                       source_country  \\\n",
              "2   e09e10e67812e9d236ad900e5d46b4308fc62f5d69446a...   \n",
              "7   e09e10e67812e9d236ad900e5d46b4308fc62f5d69446a...   \n",
              "11  e09e10e67812e9d236ad900e5d46b4308fc62f5d69446a...   \n",
              "12  e09e10e67812e9d236ad900e5d46b4308fc62f5d69446a...   \n",
              "13  e09e10e67812e9d236ad900e5d46b4308fc62f5d69446a...   \n",
              "\n",
              "                                           utm_source  \\\n",
              "2   bbdefa2950f49882f295b1285d4fa9dec45fc4144bfb07...   \n",
              "7   bbdefa2950f49882f295b1285d4fa9dec45fc4144bfb07...   \n",
              "11  bbdefa2950f49882f295b1285d4fa9dec45fc4144bfb07...   \n",
              "12  bbdefa2950f49882f295b1285d4fa9dec45fc4144bfb07...   \n",
              "13  bbdefa2950f49882f295b1285d4fa9dec45fc4144bfb07...   \n",
              "\n",
              "                                           utm_medium  \\\n",
              "2   09076eb7665d1fb9389c7c4517fee0b00e43092eb34821...   \n",
              "7   09076eb7665d1fb9389c7c4517fee0b00e43092eb34821...   \n",
              "11  09076eb7665d1fb9389c7c4517fee0b00e43092eb34821...   \n",
              "12  09076eb7665d1fb9389c7c4517fee0b00e43092eb34821...   \n",
              "13  09076eb7665d1fb9389c7c4517fee0b00e43092eb34821...   \n",
              "\n",
              "                                             des_city  \\\n",
              "2   11ab03a1a8c367191355c152f39fe28cae5e426fce49ef...   \n",
              "7   8593b9db65212160979d946950601c26622a219c80f1f1...   \n",
              "11  11ab03a1a8c367191355c152f39fe28cae5e426fce49ef...   \n",
              "12  8593b9db65212160979d946950601c26622a219c80f1f1...   \n",
              "13  810c069040f6a9b16fdf976a901755508a87cb0224b169...   \n",
              "\n",
              "                                          des_country  \\\n",
              "2   8d23a6e37e0a6431a8f1b43a91026dcff51170a89a6512...   \n",
              "7   8d23a6e37e0a6431a8f1b43a91026dcff51170a89a6512...   \n",
              "11  8d23a6e37e0a6431a8f1b43a91026dcff51170a89a6512...   \n",
              "12  8d23a6e37e0a6431a8f1b43a91026dcff51170a89a6512...   \n",
              "13  8d23a6e37e0a6431a8f1b43a91026dcff51170a89a6512...   \n",
              "\n",
              "                                              lead_id  \n",
              "2   96ea4e2bf04496c044745938c0299c264c3f4ba079e572...  \n",
              "7   96ea4e2bf04496c044745938c0299c264c3f4ba079e572...  \n",
              "11  350c5ab8ccefe5621715f9f6e56cb234b62cd4eabce310...  \n",
              "12  2d664bae493ee238f2f4ee17c91d4f8a0a7eaef64c3d58...  \n",
              "13  12a382afc12ec36c5e30b1c95a6093c3f535248f20b701...  "
            ]
          },
          "execution_count": 223,
          "metadata": {},
          "output_type": "execute_result"
        }
      ],
      "source": [
        "df1.head()"
      ]
    },
    {
      "cell_type": "code",
      "execution_count": null,
      "id": "93f484cf",
      "metadata": {
        "id": "93f484cf",
        "outputId": "2e89dc2a-bcf6-483b-c601-a45c6ff81c78"
      },
      "outputs": [
        {
          "data": {
            "text/plain": [
              "(21004, 15)"
            ]
          },
          "execution_count": 224,
          "metadata": {},
          "output_type": "execute_result"
        }
      ],
      "source": [
        "df1.shape"
      ]
    },
    {
      "cell_type": "code",
      "execution_count": null,
      "id": "14dc163f",
      "metadata": {
        "id": "14dc163f"
      },
      "outputs": [],
      "source": [
        "X = df1.drop(['status','Unnamed: 0'], axis=1)\n",
        "y = df1['status']"
      ]
    },
    {
      "cell_type": "code",
      "execution_count": null,
      "id": "dc4d263d",
      "metadata": {
        "id": "dc4d263d"
      },
      "outputs": [],
      "source": [
        "df1['status'] = df1['status'].replace({'LOST': 0, 'WON': 1})"
      ]
    },
    {
      "cell_type": "code",
      "execution_count": null,
      "id": "a6e22479",
      "metadata": {
        "id": "a6e22479"
      },
      "outputs": [],
      "source": [
        "y = df1['status']"
      ]
    },
    {
      "cell_type": "code",
      "execution_count": null,
      "id": "6b57448f",
      "metadata": {
        "id": "6b57448f",
        "outputId": "b06ee7fc-eb52-4ed8-fea8-3580cd136e2e"
      },
      "outputs": [
        {
          "data": {
            "text/plain": [
              "2     0\n",
              "7     0\n",
              "11    0\n",
              "12    0\n",
              "13    0\n",
              "Name: status, dtype: category\n",
              "Categories (1, int64): [0]"
            ]
          },
          "execution_count": 228,
          "metadata": {},
          "output_type": "execute_result"
        }
      ],
      "source": [
        "y.head()"
      ]
    },
    {
      "cell_type": "code",
      "execution_count": null,
      "id": "4e650021",
      "metadata": {
        "id": "4e650021"
      },
      "outputs": [],
      "source": [
        "column=['Agent_id', 'lost_reason', 'budget', 'lease',  'movein', 'source', 'source_city', 'source_country', 'utm_source', 'utm_medium', 'des_city', 'des_country', 'lead_id']"
      ]
    },
    {
      "cell_type": "code",
      "execution_count": null,
      "id": "623b234e",
      "metadata": {
        "id": "623b234e"
      },
      "outputs": [],
      "source": [
        "X = pd.get_dummies(X, columns=column)"
      ]
    },
    {
      "cell_type": "code",
      "execution_count": null,
      "id": "0f747c33",
      "metadata": {
        "id": "0f747c33",
        "outputId": "c4961cdb-e5b9-431f-f0c6-06350c002075"
      },
      "outputs": [
        {
          "data": {
            "text/html": [
              "<div>\n",
              "<style scoped>\n",
              "    .dataframe tbody tr th:only-of-type {\n",
              "        vertical-align: middle;\n",
              "    }\n",
              "\n",
              "    .dataframe tbody tr th {\n",
              "        vertical-align: top;\n",
              "    }\n",
              "\n",
              "    .dataframe thead th {\n",
              "        text-align: right;\n",
              "    }\n",
              "</style>\n",
              "<table border=\"1\" class=\"dataframe\">\n",
              "  <thead>\n",
              "    <tr style=\"text-align: right;\">\n",
              "      <th></th>\n",
              "      <th>Agent_id_04d19fde0a08b17aca69491e714bea43565384d12a63626e08477662cc03780e</th>\n",
              "      <th>Agent_id_06ae80c3e00a1457fc70192d357766c9de0a9787fe3dedc386ac0191e9c151c3</th>\n",
              "      <th>Agent_id_0a8e1918dfba7f1923f23bc135c7b0a76344b632c54ca1584c9938160705f63e</th>\n",
              "      <th>Agent_id_0b31c0155c83c5fdbff532bfe3e43dfe547938df26dd9092df0eb46bd7900b0c</th>\n",
              "      <th>Agent_id_1134c0a7d44fdae1afd7f1f64e2789496784095ca0a050947d659c256d331d34</th>\n",
              "      <th>Agent_id_131127203c89e8219dbdfe2f597538759310f40918b22270401794e1300d2c9d</th>\n",
              "      <th>Agent_id_13990937ab8ca4413751a9012a31255e72a18ba3ac8d5c83dd511df50cf2a3e1</th>\n",
              "      <th>Agent_id_15aefc83749af078486ccde85b7f17f9b40fec0bce7612b1a75910868f7aad2e</th>\n",
              "      <th>Agent_id_16b2de0eb3bafc3b61c8399c6e69bbd699d2228a9c4ada3909efedeaf524c215</th>\n",
              "      <th>Agent_id_18177338c3669a1314d644b7f4ecfd18a5c735e819edf1e2062c3bc354d0dd7f</th>\n",
              "      <th>...</th>\n",
              "      <th>lead_id_ffc2e3386f640c0aa29f2d108a31d4d641bd2054e9f78f30816c7015f4f8501f</th>\n",
              "      <th>lead_id_ffc54ab0e51e06c1747a14bc4a90ff5c24c9f7f6525726454cf7d0d933694b39</th>\n",
              "      <th>lead_id_ffcda4ac8fb5679b79703fce1796e85b7d3a3004b2479c8e6a2ffcdf83d9f81f</th>\n",
              "      <th>lead_id_ffd8b3f45399cdcbf2ad7720583f9187c077d2224329cbfb55a6fed200f9d33d</th>\n",
              "      <th>lead_id_ffdf7224ddda79b25424aa96d087f561bca9c2beaffded7d889780704986663b</th>\n",
              "      <th>lead_id_ffe0d0636acff00ee56039003a7e4f07d50db587e1657a0328158be6a5ef854f</th>\n",
              "      <th>lead_id_ffe7aa8f7a4146e31383bbfab9b3246a1921ec1417fb847ca1727bac63e62cb2</th>\n",
              "      <th>lead_id_fff11aaa4800ce35804a1e557f5ea04d4b7575e31f530398413a1dd111af6216</th>\n",
              "      <th>lead_id_fffdb3c33726791642822022e13ea17b16ddd67312c9abbaa579d80f29cacf92</th>\n",
              "      <th>lead_id_fffe7b465509541da84061c144ca3426748df13497a366adf908eb31adf56119</th>\n",
              "    </tr>\n",
              "  </thead>\n",
              "  <tbody>\n",
              "    <tr>\n",
              "      <th>2</th>\n",
              "      <td>0</td>\n",
              "      <td>0</td>\n",
              "      <td>0</td>\n",
              "      <td>0</td>\n",
              "      <td>0</td>\n",
              "      <td>0</td>\n",
              "      <td>0</td>\n",
              "      <td>0</td>\n",
              "      <td>0</td>\n",
              "      <td>0</td>\n",
              "      <td>...</td>\n",
              "      <td>0</td>\n",
              "      <td>0</td>\n",
              "      <td>0</td>\n",
              "      <td>0</td>\n",
              "      <td>0</td>\n",
              "      <td>0</td>\n",
              "      <td>0</td>\n",
              "      <td>0</td>\n",
              "      <td>0</td>\n",
              "      <td>0</td>\n",
              "    </tr>\n",
              "    <tr>\n",
              "      <th>7</th>\n",
              "      <td>0</td>\n",
              "      <td>0</td>\n",
              "      <td>0</td>\n",
              "      <td>0</td>\n",
              "      <td>0</td>\n",
              "      <td>0</td>\n",
              "      <td>0</td>\n",
              "      <td>0</td>\n",
              "      <td>0</td>\n",
              "      <td>0</td>\n",
              "      <td>...</td>\n",
              "      <td>0</td>\n",
              "      <td>0</td>\n",
              "      <td>0</td>\n",
              "      <td>0</td>\n",
              "      <td>0</td>\n",
              "      <td>0</td>\n",
              "      <td>0</td>\n",
              "      <td>0</td>\n",
              "      <td>0</td>\n",
              "      <td>0</td>\n",
              "    </tr>\n",
              "    <tr>\n",
              "      <th>11</th>\n",
              "      <td>0</td>\n",
              "      <td>0</td>\n",
              "      <td>0</td>\n",
              "      <td>0</td>\n",
              "      <td>0</td>\n",
              "      <td>0</td>\n",
              "      <td>0</td>\n",
              "      <td>0</td>\n",
              "      <td>0</td>\n",
              "      <td>0</td>\n",
              "      <td>...</td>\n",
              "      <td>0</td>\n",
              "      <td>0</td>\n",
              "      <td>0</td>\n",
              "      <td>0</td>\n",
              "      <td>0</td>\n",
              "      <td>0</td>\n",
              "      <td>0</td>\n",
              "      <td>0</td>\n",
              "      <td>0</td>\n",
              "      <td>0</td>\n",
              "    </tr>\n",
              "    <tr>\n",
              "      <th>12</th>\n",
              "      <td>0</td>\n",
              "      <td>0</td>\n",
              "      <td>0</td>\n",
              "      <td>0</td>\n",
              "      <td>0</td>\n",
              "      <td>0</td>\n",
              "      <td>0</td>\n",
              "      <td>0</td>\n",
              "      <td>0</td>\n",
              "      <td>0</td>\n",
              "      <td>...</td>\n",
              "      <td>0</td>\n",
              "      <td>0</td>\n",
              "      <td>0</td>\n",
              "      <td>0</td>\n",
              "      <td>0</td>\n",
              "      <td>0</td>\n",
              "      <td>0</td>\n",
              "      <td>0</td>\n",
              "      <td>0</td>\n",
              "      <td>0</td>\n",
              "    </tr>\n",
              "    <tr>\n",
              "      <th>13</th>\n",
              "      <td>0</td>\n",
              "      <td>0</td>\n",
              "      <td>0</td>\n",
              "      <td>0</td>\n",
              "      <td>0</td>\n",
              "      <td>0</td>\n",
              "      <td>0</td>\n",
              "      <td>0</td>\n",
              "      <td>0</td>\n",
              "      <td>0</td>\n",
              "      <td>...</td>\n",
              "      <td>0</td>\n",
              "      <td>0</td>\n",
              "      <td>0</td>\n",
              "      <td>0</td>\n",
              "      <td>0</td>\n",
              "      <td>0</td>\n",
              "      <td>0</td>\n",
              "      <td>0</td>\n",
              "      <td>0</td>\n",
              "      <td>0</td>\n",
              "    </tr>\n",
              "  </tbody>\n",
              "</table>\n",
              "<p>5 rows × 22473 columns</p>\n",
              "</div>"
            ],
            "text/plain": [
              "    Agent_id_04d19fde0a08b17aca69491e714bea43565384d12a63626e08477662cc03780e  \\\n",
              "2                                                   0                           \n",
              "7                                                   0                           \n",
              "11                                                  0                           \n",
              "12                                                  0                           \n",
              "13                                                  0                           \n",
              "\n",
              "    Agent_id_06ae80c3e00a1457fc70192d357766c9de0a9787fe3dedc386ac0191e9c151c3  \\\n",
              "2                                                   0                           \n",
              "7                                                   0                           \n",
              "11                                                  0                           \n",
              "12                                                  0                           \n",
              "13                                                  0                           \n",
              "\n",
              "    Agent_id_0a8e1918dfba7f1923f23bc135c7b0a76344b632c54ca1584c9938160705f63e  \\\n",
              "2                                                   0                           \n",
              "7                                                   0                           \n",
              "11                                                  0                           \n",
              "12                                                  0                           \n",
              "13                                                  0                           \n",
              "\n",
              "    Agent_id_0b31c0155c83c5fdbff532bfe3e43dfe547938df26dd9092df0eb46bd7900b0c  \\\n",
              "2                                                   0                           \n",
              "7                                                   0                           \n",
              "11                                                  0                           \n",
              "12                                                  0                           \n",
              "13                                                  0                           \n",
              "\n",
              "    Agent_id_1134c0a7d44fdae1afd7f1f64e2789496784095ca0a050947d659c256d331d34  \\\n",
              "2                                                   0                           \n",
              "7                                                   0                           \n",
              "11                                                  0                           \n",
              "12                                                  0                           \n",
              "13                                                  0                           \n",
              "\n",
              "    Agent_id_131127203c89e8219dbdfe2f597538759310f40918b22270401794e1300d2c9d  \\\n",
              "2                                                   0                           \n",
              "7                                                   0                           \n",
              "11                                                  0                           \n",
              "12                                                  0                           \n",
              "13                                                  0                           \n",
              "\n",
              "    Agent_id_13990937ab8ca4413751a9012a31255e72a18ba3ac8d5c83dd511df50cf2a3e1  \\\n",
              "2                                                   0                           \n",
              "7                                                   0                           \n",
              "11                                                  0                           \n",
              "12                                                  0                           \n",
              "13                                                  0                           \n",
              "\n",
              "    Agent_id_15aefc83749af078486ccde85b7f17f9b40fec0bce7612b1a75910868f7aad2e  \\\n",
              "2                                                   0                           \n",
              "7                                                   0                           \n",
              "11                                                  0                           \n",
              "12                                                  0                           \n",
              "13                                                  0                           \n",
              "\n",
              "    Agent_id_16b2de0eb3bafc3b61c8399c6e69bbd699d2228a9c4ada3909efedeaf524c215  \\\n",
              "2                                                   0                           \n",
              "7                                                   0                           \n",
              "11                                                  0                           \n",
              "12                                                  0                           \n",
              "13                                                  0                           \n",
              "\n",
              "    Agent_id_18177338c3669a1314d644b7f4ecfd18a5c735e819edf1e2062c3bc354d0dd7f  \\\n",
              "2                                                   0                           \n",
              "7                                                   0                           \n",
              "11                                                  0                           \n",
              "12                                                  0                           \n",
              "13                                                  0                           \n",
              "\n",
              "    ...  \\\n",
              "2   ...   \n",
              "7   ...   \n",
              "11  ...   \n",
              "12  ...   \n",
              "13  ...   \n",
              "\n",
              "    lead_id_ffc2e3386f640c0aa29f2d108a31d4d641bd2054e9f78f30816c7015f4f8501f  \\\n",
              "2                                                   0                          \n",
              "7                                                   0                          \n",
              "11                                                  0                          \n",
              "12                                                  0                          \n",
              "13                                                  0                          \n",
              "\n",
              "    lead_id_ffc54ab0e51e06c1747a14bc4a90ff5c24c9f7f6525726454cf7d0d933694b39  \\\n",
              "2                                                   0                          \n",
              "7                                                   0                          \n",
              "11                                                  0                          \n",
              "12                                                  0                          \n",
              "13                                                  0                          \n",
              "\n",
              "    lead_id_ffcda4ac8fb5679b79703fce1796e85b7d3a3004b2479c8e6a2ffcdf83d9f81f  \\\n",
              "2                                                   0                          \n",
              "7                                                   0                          \n",
              "11                                                  0                          \n",
              "12                                                  0                          \n",
              "13                                                  0                          \n",
              "\n",
              "    lead_id_ffd8b3f45399cdcbf2ad7720583f9187c077d2224329cbfb55a6fed200f9d33d  \\\n",
              "2                                                   0                          \n",
              "7                                                   0                          \n",
              "11                                                  0                          \n",
              "12                                                  0                          \n",
              "13                                                  0                          \n",
              "\n",
              "    lead_id_ffdf7224ddda79b25424aa96d087f561bca9c2beaffded7d889780704986663b  \\\n",
              "2                                                   0                          \n",
              "7                                                   0                          \n",
              "11                                                  0                          \n",
              "12                                                  0                          \n",
              "13                                                  0                          \n",
              "\n",
              "    lead_id_ffe0d0636acff00ee56039003a7e4f07d50db587e1657a0328158be6a5ef854f  \\\n",
              "2                                                   0                          \n",
              "7                                                   0                          \n",
              "11                                                  0                          \n",
              "12                                                  0                          \n",
              "13                                                  0                          \n",
              "\n",
              "    lead_id_ffe7aa8f7a4146e31383bbfab9b3246a1921ec1417fb847ca1727bac63e62cb2  \\\n",
              "2                                                   0                          \n",
              "7                                                   0                          \n",
              "11                                                  0                          \n",
              "12                                                  0                          \n",
              "13                                                  0                          \n",
              "\n",
              "    lead_id_fff11aaa4800ce35804a1e557f5ea04d4b7575e31f530398413a1dd111af6216  \\\n",
              "2                                                   0                          \n",
              "7                                                   0                          \n",
              "11                                                  0                          \n",
              "12                                                  0                          \n",
              "13                                                  0                          \n",
              "\n",
              "    lead_id_fffdb3c33726791642822022e13ea17b16ddd67312c9abbaa579d80f29cacf92  \\\n",
              "2                                                   0                          \n",
              "7                                                   0                          \n",
              "11                                                  0                          \n",
              "12                                                  0                          \n",
              "13                                                  0                          \n",
              "\n",
              "    lead_id_fffe7b465509541da84061c144ca3426748df13497a366adf908eb31adf56119  \n",
              "2                                                   0                         \n",
              "7                                                   0                         \n",
              "11                                                  0                         \n",
              "12                                                  0                         \n",
              "13                                                  0                         \n",
              "\n",
              "[5 rows x 22473 columns]"
            ]
          },
          "execution_count": 231,
          "metadata": {},
          "output_type": "execute_result"
        }
      ],
      "source": [
        "X.head()"
      ]
    },
    {
      "cell_type": "code",
      "execution_count": null,
      "id": "862dd88d",
      "metadata": {
        "id": "862dd88d"
      },
      "outputs": [],
      "source": [
        "\n",
        "X_train, X_test, y_train, y_test = train_test_split(X, y, test_size=0.2, random_state=42)\n"
      ]
    },
    {
      "cell_type": "code",
      "execution_count": null,
      "id": "555383c8",
      "metadata": {
        "id": "555383c8",
        "outputId": "5dfefea1-72fc-4938-931f-82b9ec41f926"
      },
      "outputs": [
        {
          "name": "stdout",
          "output_type": "stream",
          "text": [
            "X_train shape: (16803, 22473)\n",
            "y_train shape: (16803,)\n",
            "X_test shape: (4201, 22473)\n",
            "y_test shape: (4201,)\n"
          ]
        }
      ],
      "source": [
        "print('X_train shape:', X_train.shape)\n",
        "print('y_train shape:', y_train.shape)\n",
        "print('X_test shape:', X_test.shape)\n",
        "print('y_test shape:', y_test.shape)"
      ]
    },
    {
      "cell_type": "code",
      "execution_count": null,
      "id": "bade6878",
      "metadata": {
        "id": "bade6878",
        "outputId": "a7e28dea-3cd8-479b-ece6-d193bb6da1b8"
      },
      "outputs": [
        {
          "data": {
            "text/plain": [
              "14647    0\n",
              "16693    0\n",
              "41321    0\n",
              "20926    0\n",
              "45780    0\n",
              "Name: status, dtype: category\n",
              "Categories (1, int64): [0]"
            ]
          },
          "execution_count": 234,
          "metadata": {},
          "output_type": "execute_result"
        }
      ],
      "source": [
        "y_train.head()"
      ]
    },
    {
      "cell_type": "code",
      "execution_count": null,
      "id": "67d6230c",
      "metadata": {
        "id": "67d6230c",
        "outputId": "914d9dc3-f3ec-4ee2-e2e6-0127311310c2"
      },
      "outputs": [
        {
          "data": {
            "text/plain": [
              "RandomForestClassifier(random_state=42)"
            ]
          },
          "execution_count": 235,
          "metadata": {},
          "output_type": "execute_result"
        }
      ],
      "source": [
        "rf = RandomForestClassifier(n_estimators=100, random_state=42)\n",
        "rf.fit(X_train, y_train)"
      ]
    },
    {
      "cell_type": "code",
      "execution_count": null,
      "id": "a3140873",
      "metadata": {
        "id": "a3140873",
        "outputId": "1467b13a-3418-4993-f4f4-85648c86b6a5"
      },
      "outputs": [
        {
          "data": {
            "text/plain": [
              "RandomForestClassifier(random_state=42)"
            ]
          },
          "execution_count": 236,
          "metadata": {},
          "output_type": "execute_result"
        }
      ],
      "source": [
        "rf.fit(X_train, y_train)"
      ]
    },
    {
      "cell_type": "code",
      "execution_count": null,
      "id": "030727cc",
      "metadata": {
        "id": "030727cc"
      },
      "outputs": [],
      "source": [
        "# Make predictions on the testing set\n",
        "y_pred = rf.predict(X_test)\n"
      ]
    },
    {
      "cell_type": "code",
      "execution_count": null,
      "id": "0c40966a",
      "metadata": {
        "id": "0c40966a"
      },
      "outputs": [],
      "source": [
        "acc = accuracy_score(y_test, y_pred)\n",
        "prec = precision_score(y_test, y_pred, average='weighted')\n",
        "rec = recall_score(y_test, y_pred, average='weighted')\n",
        "f1 = f1_score(y_test, y_pred, average='weighted')\n"
      ]
    },
    {
      "cell_type": "code",
      "execution_count": null,
      "id": "0f985db2",
      "metadata": {
        "id": "0f985db2",
        "outputId": "4f3df911-5e6c-427c-ac8e-a5aa663c388b"
      },
      "outputs": [
        {
          "name": "stdout",
          "output_type": "stream",
          "text": [
            "Accuracy: 1.0\n",
            "Precision: 1.0\n",
            "Recall: 1.0\n",
            "F1-Score: 1.0\n"
          ]
        }
      ],
      "source": [
        "print(f'Accuracy: {acc}')\n",
        "print(f'Precision: {prec}')\n",
        "print(f'Recall: {rec}')\n",
        "print(f'F1-Score: {f1}')"
      ]
    }
  ],
  "metadata": {
    "kernelspec": {
      "display_name": "Python 3 (ipykernel)",
      "language": "python",
      "name": "python3"
    },
    "language_info": {
      "codemirror_mode": {
        "name": "ipython",
        "version": 3
      },
      "file_extension": ".py",
      "mimetype": "text/x-python",
      "name": "python",
      "nbconvert_exporter": "python",
      "pygments_lexer": "ipython3",
      "version": "3.8.8"
    },
    "colab": {
      "provenance": [],
      "include_colab_link": true
    }
  },
  "nbformat": 4,
  "nbformat_minor": 5
}